{
  "nbformat": 4,
  "nbformat_minor": 0,
  "metadata": {
    "colab": {
      "name": "dataset_hackGT.ipynb",
      "provenance": [],
      "collapsed_sections": []
    },
    "kernelspec": {
      "name": "python3",
      "display_name": "Python 3"
    }
  },
  "cells": [
    {
      "cell_type": "code",
      "metadata": {
        "id": "PwHKDqI068v3"
      },
      "source": [
        "import datetime\n",
        "import pandas as pd\n",
        "import numpy as np\n",
        "import random\n",
        "columns=[\"Tempratue_A\",\"Temprateure_B\",\"Temprature_C\",\"Temprature_D\",\"Time_in_Days\",\"Humidity_A\",\"Humidity_B\",\"Humidity_C\",\"Humidity_D\",\"Medicine\"]\n",
        "temp=[i for i in range(0,100)]\n",
        "hum=[i for i in range(20,70)]\n",
        "tim=[i for i in range(30,90)]\n",
        "med=[\"A\",\"B\"]\n",
        "df = pd.DataFrame(index=np.arange(0, 100),columns=columns)"
      ],
      "execution_count": 48,
      "outputs": []
    },
    {
      "cell_type": "code",
      "metadata": {
        "id": "p1H-sFzE_7PN",
        "outputId": "27febf1c-b033-4871-c077-9ea7f6d90ef5",
        "colab": {
          "base_uri": "https://localhost:8080/",
          "height": 194
        }
      },
      "source": [
        "df.head()"
      ],
      "execution_count": 49,
      "outputs": [
        {
          "output_type": "execute_result",
          "data": {
            "text/html": [
              "<div>\n",
              "<style scoped>\n",
              "    .dataframe tbody tr th:only-of-type {\n",
              "        vertical-align: middle;\n",
              "    }\n",
              "\n",
              "    .dataframe tbody tr th {\n",
              "        vertical-align: top;\n",
              "    }\n",
              "\n",
              "    .dataframe thead th {\n",
              "        text-align: right;\n",
              "    }\n",
              "</style>\n",
              "<table border=\"1\" class=\"dataframe\">\n",
              "  <thead>\n",
              "    <tr style=\"text-align: right;\">\n",
              "      <th></th>\n",
              "      <th>Tempratue_A</th>\n",
              "      <th>Temprateure_B</th>\n",
              "      <th>Temprature_C</th>\n",
              "      <th>Temprature_D</th>\n",
              "      <th>Time_in_Days</th>\n",
              "      <th>Humidity_A</th>\n",
              "      <th>Humidity_B</th>\n",
              "      <th>Humidity_C</th>\n",
              "      <th>Humidity_D</th>\n",
              "      <th>Medicine</th>\n",
              "    </tr>\n",
              "  </thead>\n",
              "  <tbody>\n",
              "    <tr>\n",
              "      <th>0</th>\n",
              "      <td>NaN</td>\n",
              "      <td>NaN</td>\n",
              "      <td>NaN</td>\n",
              "      <td>NaN</td>\n",
              "      <td>NaN</td>\n",
              "      <td>NaN</td>\n",
              "      <td>NaN</td>\n",
              "      <td>NaN</td>\n",
              "      <td>NaN</td>\n",
              "      <td>NaN</td>\n",
              "    </tr>\n",
              "    <tr>\n",
              "      <th>1</th>\n",
              "      <td>NaN</td>\n",
              "      <td>NaN</td>\n",
              "      <td>NaN</td>\n",
              "      <td>NaN</td>\n",
              "      <td>NaN</td>\n",
              "      <td>NaN</td>\n",
              "      <td>NaN</td>\n",
              "      <td>NaN</td>\n",
              "      <td>NaN</td>\n",
              "      <td>NaN</td>\n",
              "    </tr>\n",
              "    <tr>\n",
              "      <th>2</th>\n",
              "      <td>NaN</td>\n",
              "      <td>NaN</td>\n",
              "      <td>NaN</td>\n",
              "      <td>NaN</td>\n",
              "      <td>NaN</td>\n",
              "      <td>NaN</td>\n",
              "      <td>NaN</td>\n",
              "      <td>NaN</td>\n",
              "      <td>NaN</td>\n",
              "      <td>NaN</td>\n",
              "    </tr>\n",
              "    <tr>\n",
              "      <th>3</th>\n",
              "      <td>NaN</td>\n",
              "      <td>NaN</td>\n",
              "      <td>NaN</td>\n",
              "      <td>NaN</td>\n",
              "      <td>NaN</td>\n",
              "      <td>NaN</td>\n",
              "      <td>NaN</td>\n",
              "      <td>NaN</td>\n",
              "      <td>NaN</td>\n",
              "      <td>NaN</td>\n",
              "    </tr>\n",
              "    <tr>\n",
              "      <th>4</th>\n",
              "      <td>NaN</td>\n",
              "      <td>NaN</td>\n",
              "      <td>NaN</td>\n",
              "      <td>NaN</td>\n",
              "      <td>NaN</td>\n",
              "      <td>NaN</td>\n",
              "      <td>NaN</td>\n",
              "      <td>NaN</td>\n",
              "      <td>NaN</td>\n",
              "      <td>NaN</td>\n",
              "    </tr>\n",
              "  </tbody>\n",
              "</table>\n",
              "</div>"
            ],
            "text/plain": [
              "  Tempratue_A Temprateure_B Temprature_C  ... Humidity_C Humidity_D Medicine\n",
              "0         NaN           NaN          NaN  ...        NaN        NaN      NaN\n",
              "1         NaN           NaN          NaN  ...        NaN        NaN      NaN\n",
              "2         NaN           NaN          NaN  ...        NaN        NaN      NaN\n",
              "3         NaN           NaN          NaN  ...        NaN        NaN      NaN\n",
              "4         NaN           NaN          NaN  ...        NaN        NaN      NaN\n",
              "\n",
              "[5 rows x 10 columns]"
            ]
          },
          "metadata": {
            "tags": []
          },
          "execution_count": 49
        }
      ]
    },
    {
      "cell_type": "code",
      "metadata": {
        "id": "Mvewpfdu_8LE"
      },
      "source": [
        "for i in range(100):\n",
        "  df.iloc[i]=[random.choice(temp),random.choice(temp),random.choice(temp),random.choice(temp),random.choice(tim),random.choice(hum),random.choice(hum),random.choice(hum),random.choice(hum),random.choice(med)]"
      ],
      "execution_count": 50,
      "outputs": []
    },
    {
      "cell_type": "code",
      "metadata": {
        "id": "nby154RbBLyJ",
        "outputId": "f3a559f3-a183-4b2a-c34a-fd56b6b4cb22",
        "colab": {
          "base_uri": "https://localhost:8080/",
          "height": 194
        }
      },
      "source": [
        "df.head()"
      ],
      "execution_count": 51,
      "outputs": [
        {
          "output_type": "execute_result",
          "data": {
            "text/html": [
              "<div>\n",
              "<style scoped>\n",
              "    .dataframe tbody tr th:only-of-type {\n",
              "        vertical-align: middle;\n",
              "    }\n",
              "\n",
              "    .dataframe tbody tr th {\n",
              "        vertical-align: top;\n",
              "    }\n",
              "\n",
              "    .dataframe thead th {\n",
              "        text-align: right;\n",
              "    }\n",
              "</style>\n",
              "<table border=\"1\" class=\"dataframe\">\n",
              "  <thead>\n",
              "    <tr style=\"text-align: right;\">\n",
              "      <th></th>\n",
              "      <th>Tempratue_A</th>\n",
              "      <th>Temprateure_B</th>\n",
              "      <th>Temprature_C</th>\n",
              "      <th>Temprature_D</th>\n",
              "      <th>Time_in_Days</th>\n",
              "      <th>Humidity_A</th>\n",
              "      <th>Humidity_B</th>\n",
              "      <th>Humidity_C</th>\n",
              "      <th>Humidity_D</th>\n",
              "      <th>Medicine</th>\n",
              "    </tr>\n",
              "  </thead>\n",
              "  <tbody>\n",
              "    <tr>\n",
              "      <th>0</th>\n",
              "      <td>29</td>\n",
              "      <td>29</td>\n",
              "      <td>72</td>\n",
              "      <td>74</td>\n",
              "      <td>40</td>\n",
              "      <td>61</td>\n",
              "      <td>34</td>\n",
              "      <td>39</td>\n",
              "      <td>58</td>\n",
              "      <td>A</td>\n",
              "    </tr>\n",
              "    <tr>\n",
              "      <th>1</th>\n",
              "      <td>82</td>\n",
              "      <td>0</td>\n",
              "      <td>9</td>\n",
              "      <td>13</td>\n",
              "      <td>37</td>\n",
              "      <td>54</td>\n",
              "      <td>44</td>\n",
              "      <td>67</td>\n",
              "      <td>60</td>\n",
              "      <td>A</td>\n",
              "    </tr>\n",
              "    <tr>\n",
              "      <th>2</th>\n",
              "      <td>31</td>\n",
              "      <td>27</td>\n",
              "      <td>46</td>\n",
              "      <td>90</td>\n",
              "      <td>48</td>\n",
              "      <td>34</td>\n",
              "      <td>69</td>\n",
              "      <td>63</td>\n",
              "      <td>33</td>\n",
              "      <td>A</td>\n",
              "    </tr>\n",
              "    <tr>\n",
              "      <th>3</th>\n",
              "      <td>2</td>\n",
              "      <td>14</td>\n",
              "      <td>5</td>\n",
              "      <td>86</td>\n",
              "      <td>33</td>\n",
              "      <td>54</td>\n",
              "      <td>48</td>\n",
              "      <td>60</td>\n",
              "      <td>64</td>\n",
              "      <td>A</td>\n",
              "    </tr>\n",
              "    <tr>\n",
              "      <th>4</th>\n",
              "      <td>45</td>\n",
              "      <td>70</td>\n",
              "      <td>73</td>\n",
              "      <td>45</td>\n",
              "      <td>67</td>\n",
              "      <td>22</td>\n",
              "      <td>61</td>\n",
              "      <td>25</td>\n",
              "      <td>67</td>\n",
              "      <td>A</td>\n",
              "    </tr>\n",
              "  </tbody>\n",
              "</table>\n",
              "</div>"
            ],
            "text/plain": [
              "  Tempratue_A Temprateure_B Temprature_C  ... Humidity_C Humidity_D Medicine\n",
              "0          29            29           72  ...         39         58        A\n",
              "1          82             0            9  ...         67         60        A\n",
              "2          31            27           46  ...         63         33        A\n",
              "3           2            14            5  ...         60         64        A\n",
              "4          45            70           73  ...         25         67        A\n",
              "\n",
              "[5 rows x 10 columns]"
            ]
          },
          "metadata": {
            "tags": []
          },
          "execution_count": 51
        }
      ]
    },
    {
      "cell_type": "code",
      "metadata": {
        "id": "kwCnuxE4BM61"
      },
      "source": [
        "mean_A_TA=df.loc[df['Medicine'] == 'A', 'Tempratue_A'].mean()"
      ],
      "execution_count": 52,
      "outputs": []
    },
    {
      "cell_type": "code",
      "metadata": {
        "id": "WtE0tOjaCZ6y",
        "outputId": "c80c159c-9b3e-4532-bfb8-a3db1234dfd4",
        "colab": {
          "base_uri": "https://localhost:8080/",
          "height": 35
        }
      },
      "source": [
        "mean_A_TA"
      ],
      "execution_count": 53,
      "outputs": [
        {
          "output_type": "execute_result",
          "data": {
            "text/plain": [
              "42.83673469387755"
            ]
          },
          "metadata": {
            "tags": []
          },
          "execution_count": 53
        }
      ]
    },
    {
      "cell_type": "code",
      "metadata": {
        "id": "w0gop8OtCx2f"
      },
      "source": [
        "mean_B_TA=df.loc[df['Medicine'] == 'B', 'Tempratue_A'].mean()"
      ],
      "execution_count": 54,
      "outputs": []
    },
    {
      "cell_type": "code",
      "metadata": {
        "id": "91aRbmSGak9y",
        "outputId": "d67b29a2-befe-4864-b4eb-1c383466bfe5",
        "colab": {
          "base_uri": "https://localhost:8080/",
          "height": 35
        }
      },
      "source": [
        "mean_B_TA"
      ],
      "execution_count": 55,
      "outputs": [
        {
          "output_type": "execute_result",
          "data": {
            "text/plain": [
              "54.21568627450981"
            ]
          },
          "metadata": {
            "tags": []
          },
          "execution_count": 55
        }
      ]
    },
    {
      "cell_type": "code",
      "metadata": {
        "id": "LccaOYuYal2p",
        "outputId": "e65b0341-7754-49d8-b0f5-1e1649de676b",
        "colab": {
          "base_uri": "https://localhost:8080/",
          "height": 35
        }
      },
      "source": [
        "import matplotlib.pyplot as plt\n",
        "\n",
        "fig = plt.figure()\n"
      ],
      "execution_count": 56,
      "outputs": [
        {
          "output_type": "display_data",
          "data": {
            "text/plain": [
              "<Figure size 432x288 with 0 Axes>"
            ]
          },
          "metadata": {
            "tags": []
          }
        }
      ]
    },
    {
      "cell_type": "code",
      "metadata": {
        "id": "8a1FDwsUa6PK",
        "outputId": "8f076602-c0cb-4695-f7e7-e10268eb007b",
        "colab": {
          "base_uri": "https://localhost:8080/",
          "height": 299
        }
      },
      "source": [
        "import matplotlib.pyplot as plt\n",
        "fig, ax  = plt.subplots()\n",
        "plt.title(\"Average temprature conditions for point A\")\n",
        "ax.bar([1, 2], [mean_A_TA, mean_B_TA], width=0.6,\n",
        "       tick_label=['A', 'B'], align='center')"
      ],
      "execution_count": 57,
      "outputs": [
        {
          "output_type": "execute_result",
          "data": {
            "text/plain": [
              "<BarContainer object of 2 artists>"
            ]
          },
          "metadata": {
            "tags": []
          },
          "execution_count": 57
        },
        {
          "output_type": "display_data",
          "data": {
            "image/png": "[encoded data removed]",
            "text/plain": [
              "<Figure size 432x288 with 1 Axes>"
            ]
          },
          "metadata": {
            "tags": [],
            "needs_background": "light"
          }
        }
      ]
    },
    {
      "cell_type": "code",
      "metadata": {
        "id": "pNw7P6HjbWvk",
        "outputId": "42fbba35-0afa-4074-c6af-c75182a3d9de",
        "colab": {
          "base_uri": "https://localhost:8080/",
          "height": 299
        }
      },
      "source": [
        "mean_A_TB=df.loc[df['Medicine'] == 'A', 'Temprateure_B'].mean()\n",
        "mean_B_TB=df.loc[df['Medicine'] == 'B', 'Temprateure_B'].mean()\n",
        "import matplotlib.pyplot as plt\n",
        "fig, ax  = plt.subplots()\n",
        "plt.title(\"Average temprature conditions for point B\")\n",
        "ax.bar([1, 2], [mean_A_TB, mean_B_TB], width=0.6,\n",
        "       tick_label=['A', 'B'], align='center')"
      ],
      "execution_count": 58,
      "outputs": [
        {
          "output_type": "execute_result",
          "data": {
            "text/plain": [
              "<BarContainer object of 2 artists>"
            ]
          },
          "metadata": {
            "tags": []
          },
          "execution_count": 58
        },
        {
          "output_type": "display_data",
          "data": {
            "image/png": "[encoded data removed]",
            "text/plain": [
              "<Figure size 432x288 with 1 Axes>"
            ]
          },
          "metadata": {
            "tags": [],
            "needs_background": "light"
          }
        }
      ]
    },
    {
      "cell_type": "code",
      "metadata": {
        "id": "1_piCmOHdECI",
        "outputId": "3f600919-d608-4076-f00f-caeeb43bc243",
        "colab": {
          "base_uri": "https://localhost:8080/",
          "height": 316
        }
      },
      "source": [
        "mean_A_TC=df.loc[df['Medicine'] == 'A', 'Temprature_C'].mean()\n",
        "mean_B_TC=df.loc[df['Medicine'] == 'B', 'Temprature_C'].mean()\n",
        "print(mean_A_TC)\n",
        "import matplotlib.pyplot as plt\n",
        "fig, ax  = plt.subplots()\n",
        "plt.title(\"Average temprature conditions for point C\")\n",
        "ax.bar([1, 2], [mean_A_TC, mean_B_TC], width=0.6,\n",
        "       tick_label=['A', 'B'], align='center')"
      ],
      "execution_count": 59,
      "outputs": [
        {
          "output_type": "stream",
          "text": [
            "47.10204081632653\n"
          ],
          "name": "stdout"
        },
        {
          "output_type": "execute_result",
          "data": {
            "text/plain": [
              "<BarContainer object of 2 artists>"
            ]
          },
          "metadata": {
            "tags": []
          },
          "execution_count": 59
        },
        {
          "output_type": "display_data",
          "data": {
            "image/png": "[encoded data removed]",
            "text/plain": [
              "<Figure size 432x288 with 1 Axes>"
            ]
          },
          "metadata": {
            "tags": [],
            "needs_background": "light"
          }
        }
      ]
    },
    {
      "cell_type": "code",
      "metadata": {
        "id": "yEVXwYVgdsdb",
        "outputId": "df2bb5a6-376b-4161-a4af-52fb561f2b9d",
        "colab": {
          "base_uri": "https://localhost:8080/",
          "height": 299
        }
      },
      "source": [
        "mean_A_HA=df.loc[df['Medicine'] == 'A', 'Humidity_A'].mean()\n",
        "mean_B_HA=df.loc[df['Medicine'] == 'B', 'Humidity_B'].mean()\n",
        "import matplotlib.pyplot as plt\n",
        "fig, ax  = plt.subplots()\n",
        "plt.title(\"Average Humidity conditions for point A\")\n",
        "ax.bar([1, 2], [mean_A_HA, mean_B_HA], width=0.6,\n",
        "       tick_label=['A', 'B'], align='center')"
      ],
      "execution_count": 60,
      "outputs": [
        {
          "output_type": "execute_result",
          "data": {
            "text/plain": [
              "<BarContainer object of 2 artists>"
            ]
          },
          "metadata": {
            "tags": []
          },
          "execution_count": 60
        },
        {
          "output_type": "display_data",
          "data": {
            "image/png": "[encoded data removed]",
            "text/plain": [
              "<Figure size 432x288 with 1 Axes>"
            ]
          },
          "metadata": {
            "tags": [],
            "needs_background": "light"
          }
        }
      ]
    },
    {
      "cell_type": "code",
      "metadata": {
        "id": "GOPlj8Wafeur"
      },
      "source": [
        ""
      ],
      "execution_count": null,
      "outputs": []
    },
    {
      "cell_type": "code",
      "metadata": {
        "id": "_4ccT3MChQaZ",
        "outputId": "68e65f2d-d88b-4037-8902-dfafce668766",
        "colab": {
          "base_uri": "https://localhost:8080/",
          "height": 299
        }
      },
      "source": [
        "mean_A_HB=df.loc[df['Medicine'] == 'A', 'Humidity_B'].mean()\n",
        "mean_B_HB=df.loc[df['Medicine'] == 'B', 'Humidity_B'].mean()\n",
        "import matplotlib.pyplot as plt\n",
        "fig, ax  = plt.subplots()\n",
        "plt.title(\"Average Humidity conditions for point B\")\n",
        "ax.bar([1, 2], [mean_A_HB, mean_B_HB], width=0.6,\n",
        "       tick_label=['A', 'B'], align='center')"
      ],
      "execution_count": 63,
      "outputs": [
        {
          "output_type": "execute_result",
          "data": {
            "text/plain": [
              "<BarContainer object of 2 artists>"
            ]
          },
          "metadata": {
            "tags": []
          },
          "execution_count": 63
        },
        {
          "output_type": "display_data",
          "data": {
            "image/png": "[encoded data removed]",
            "text/plain": [
              "<Figure size 432x288 with 1 Axes>"
            ]
          },
          "metadata": {
            "tags": [],
            "needs_background": "light"
          }
        }
      ]
    },
    {
      "cell_type": "code",
      "metadata": {
        "id": "lrvCTMmThaVG",
        "outputId": "b1fb430e-8af8-41dd-f3c3-f1332045a99a",
        "colab": {
          "base_uri": "https://localhost:8080/",
          "height": 299
        }
      },
      "source": [
        "mean_A_HC=df.loc[df['Medicine'] == 'A', 'Humidity_C'].mean()\n",
        "mean_B_HC=df.loc[df['Medicine'] == 'B', 'Humidity_C'].mean()\n",
        "import matplotlib.pyplot as plt\n",
        "fig, ax  = plt.subplots()\n",
        "plt.title(\"Average Humidity conditions for point C\")\n",
        "ax.bar([1, 2], [mean_A_HC, mean_B_HC], width=0.6,\n",
        "       tick_label=['A', 'B'], align='center')"
      ],
      "execution_count": 64,
      "outputs": [
        {
          "output_type": "execute_result",
          "data": {
            "text/plain": [
              "<BarContainer object of 2 artists>"
            ]
          },
          "metadata": {
            "tags": []
          },
          "execution_count": 64
        },
        {
          "output_type": "display_data",
          "data": {
            "image/png": "[encoded data removed]",
            "text/plain": [
              "<Figure size 432x288 with 1 Axes>"
            ]
          },
          "metadata": {
            "tags": [],
            "needs_background": "light"
          }
        }
      ]
    },
    {
      "cell_type": "code",
      "metadata": {
        "id": "vo43hibciLqz",
        "outputId": "db73d095-3b95-41c9-c6e1-a91d16f38f60",
        "colab": {
          "base_uri": "https://localhost:8080/",
          "height": 941
        }
      },
      "source": [
        "pip install dash"
      ],
      "execution_count": 66,
      "outputs": [
        {
          "output_type": "stream",
          "text": [
            "Collecting dash\n",
            "\u001b[?25l  Downloading https://files.pythonhosted.org/packages/df/3c/063e015491023a093229d98d80687ded6de229cfe4068882cd0e31d8d883/dash-1.16.3.tar.gz (72kB)\n",
            "\r\u001b[K     |████▌                           | 10kB 17.1MB/s eta 0:00:01\r\u001b[K     |█████████                       | 20kB 2.9MB/s eta 0:00:01\r\u001b[K     |█████████████▌                  | 30kB 3.6MB/s eta 0:00:01\r\u001b[K     |██████████████████              | 40kB 3.8MB/s eta 0:00:01\r\u001b[K     |██████████████████████▌         | 51kB 3.4MB/s eta 0:00:01\r\u001b[K     |███████████████████████████     | 61kB 3.7MB/s eta 0:00:01\r\u001b[K     |███████████████████████████████▌| 71kB 4.0MB/s eta 0:00:01\r\u001b[K     |████████████████████████████████| 81kB 2.9MB/s \n",
            "\u001b[?25hRequirement already satisfied: Flask>=1.0.2 in /usr/local/lib/python3.6/dist-packages (from dash) (1.1.2)\n",
            "Collecting flask-compress\n",
            "  Downloading https://files.pythonhosted.org/packages/de/eb/6bb0f8cb872167752eab8b06b67724566342de873dcfd85faaf7761944d9/Flask-Compress-1.7.0.tar.gz\n",
            "Requirement already satisfied: plotly in /usr/local/lib/python3.6/dist-packages (from dash) (4.4.1)\n",
            "Collecting dash_renderer==1.8.2\n",
            "\u001b[?25l  Downloading https://files.pythonhosted.org/packages/c4/f6/bd39b1cb56f7e2156163e8fc344c288c416cff659abf9bd5ed918e4b729b/dash_renderer-1.8.2.tar.gz (1.0MB)\n",
            "\u001b[K     |████████████████████████████████| 1.0MB 5.9MB/s \n",
            "\u001b[?25hCollecting dash-core-components==1.12.1\n",
            "\u001b[?25l  Downloading https://files.pythonhosted.org/packages/bb/9e/979263a03963d7ac70229ae9a9a118640dd3ef9b57c5d0c89d3d18f073e7/dash_core_components-1.12.1.tar.gz (3.4MB)\n",
            "\u001b[K     |████████████████████████████████| 3.4MB 15.1MB/s \n",
            "\u001b[?25hCollecting dash-html-components==1.1.1\n",
            "\u001b[?25l  Downloading https://files.pythonhosted.org/packages/02/ba/bb9427c62feb25bfbaf243894eeeb4e7c67a92b426ed0575a167100e436e/dash_html_components-1.1.1.tar.gz (188kB)\n",
            "\u001b[K     |████████████████████████████████| 194kB 43.5MB/s \n",
            "\u001b[?25hCollecting dash-table==4.10.1\n",
            "\u001b[?25l  Downloading https://files.pythonhosted.org/packages/a9/85/2408091d71af9af8c5ce6855730ff2e3e443ba8a667864e22f0881f4d785/dash_table-4.10.1.tar.gz (1.8MB)\n",
            "\u001b[K     |████████████████████████████████| 1.8MB 38.9MB/s \n",
            "\u001b[?25hRequirement already satisfied: future in /usr/local/lib/python3.6/dist-packages (from dash) (0.16.0)\n",
            "Requirement already satisfied: click>=5.1 in /usr/local/lib/python3.6/dist-packages (from Flask>=1.0.2->dash) (7.1.2)\n",
            "Requirement already satisfied: Werkzeug>=0.15 in /usr/local/lib/python3.6/dist-packages (from Flask>=1.0.2->dash) (1.0.1)\n",
            "Requirement already satisfied: Jinja2>=2.10.1 in /usr/local/lib/python3.6/dist-packages (from Flask>=1.0.2->dash) (2.11.2)\n",
            "Requirement already satisfied: itsdangerous>=0.24 in /usr/local/lib/python3.6/dist-packages (from Flask>=1.0.2->dash) (1.1.0)\n",
            "Collecting brotli\n",
            "\u001b[?25l  Downloading https://files.pythonhosted.org/packages/b4/d3/7c98f05b7b9103e2f3a112ba42f269c798155b3e5404fb80bb8f823aaebe/Brotli-1.0.9-cp36-cp36m-manylinux1_x86_64.whl (357kB)\n",
            "\u001b[K     |████████████████████████████████| 358kB 42.4MB/s \n",
            "\u001b[?25hRequirement already satisfied: retrying>=1.3.3 in /usr/local/lib/python3.6/dist-packages (from plotly->dash) (1.3.3)\n",
            "Requirement already satisfied: six in /usr/local/lib/python3.6/dist-packages (from plotly->dash) (1.15.0)\n",
            "Requirement already satisfied: MarkupSafe>=0.23 in /usr/local/lib/python3.6/dist-packages (from Jinja2>=2.10.1->Flask>=1.0.2->dash) (1.1.1)\n",
            "Building wheels for collected packages: dash, flask-compress, dash-renderer, dash-core-components, dash-html-components, dash-table\n",
            "  Building wheel for dash (setup.py) ... \u001b[?25l\u001b[?25hdone\n",
            "  Created wheel for dash: filename=dash-1.16.3-cp36-none-any.whl size=82488 sha256=532a09c7d015564f466c3aba42cfc98808c936cac5b24032d41f0c9981684d04\n",
            "  Stored in directory: /root/.cache/pip/wheels/8f/56/d1/def235a9ef977abf4476d1ad7a3ad8d9af7537445ce01c5e16\n",
            "  Building wheel for flask-compress (setup.py) ... \u001b[?25l\u001b[?25hdone\n",
            "  Created wheel for flask-compress: filename=Flask_Compress-1.7.0-cp36-none-any.whl size=6833 sha256=5870f173bc616e929a7afa98b8b3b2796a20ce393821e14a30f1a9ac260148df\n",
            "  Stored in directory: /root/.cache/pip/wheels/1d/b7/18/2b88ed33c5ef53868d1bfb0d3f2f351ae0143414734415bd06\n",
            "  Building wheel for dash-renderer (setup.py) ... \u001b[?25l\u001b[?25hdone\n",
            "  Created wheel for dash-renderer: filename=dash_renderer-1.8.2-cp36-none-any.whl size=1013929 sha256=fc040f9d5c80ec053c5afd0eaa49c6a4984ec9ecb3a143f1dc9ed205f3130dc3\n",
            "  Stored in directory: /root/.cache/pip/wheels/c8/8f/0f/9cf71e7362b302350e10fcc9ca7f0377b84a6ea14445c2d6aa\n",
            "  Building wheel for dash-core-components (setup.py) ... \u001b[?25l\u001b[?25hdone\n",
            "  Created wheel for dash-core-components: filename=dash_core_components-1.12.1-cp36-none-any.whl size=3475396 sha256=320461cea395484f15334ce328046db823346d86e0d65b78631c14bc7e6ae24b\n",
            "  Stored in directory: /root/.cache/pip/wheels/29/11/a0/0cf8183b6f7df4716bec25b0e089043cd161bb58accc6633a6\n",
            "  Building wheel for dash-html-components (setup.py) ... \u001b[?25l\u001b[?25hdone\n",
            "  Created wheel for dash-html-components: filename=dash_html_components-1.1.1-cp36-none-any.whl size=427894 sha256=5115ba16da31c0d78b8290905a2d38970be94d3f71a170836739757bea987209\n",
            "  Stored in directory: /root/.cache/pip/wheels/8d/01/46/78e4de185a8a4a2da8ba31da16c52170f036d4cebeeb6e07a2\n",
            "  Building wheel for dash-table (setup.py) ... \u001b[?25l\u001b[?25hdone\n",
            "  Created wheel for dash-table: filename=dash_table-4.10.1-cp36-none-any.whl size=1824995 sha256=7221f844b65dcb74478b8715c0cac3cea3ec4d3b11013934a2bcc6f539c5f500\n",
            "  Stored in directory: /root/.cache/pip/wheels/3d/c2/fd/50a7ea0b9aef63cf3bf3c5fb22799b8ba9a97ea8f9b14b7124\n",
            "Successfully built dash flask-compress dash-renderer dash-core-components dash-html-components dash-table\n",
            "Installing collected packages: brotli, flask-compress, dash-renderer, dash-core-components, dash-html-components, dash-table, dash\n",
            "Successfully installed brotli-1.0.9 dash-1.16.3 dash-core-components-1.12.1 dash-html-components-1.1.1 dash-renderer-1.8.2 dash-table-4.10.1 flask-compress-1.7.0\n"
          ],
          "name": "stdout"
        }
      ]
    },
    {
      "cell_type": "code",
      "metadata": {
        "id": "-vgX91rXhuhx",
        "outputId": "56699138-155e-417f-8792-1d372085d861",
        "colab": {
          "base_uri": "https://localhost:8080/",
          "height": 310
        }
      },
      "source": [
        ""
      ],
      "execution_count": 67,
      "outputs": [
        {
          "output_type": "stream",
          "text": [
            "Dash is running on http://127.0.0.1:8050/\n",
            "\n",
            " * Serving Flask app \"__main__\" (lazy loading)\n",
            " * Environment: production\n",
            "\u001b[31m   WARNING: This is a development server. Do not use it in a production deployment.\u001b[0m\n",
            "\u001b[2m   Use a production WSGI server instead.\u001b[0m\n",
            " * Debug mode: on\n"
          ],
          "name": "stdout"
        },
        {
          "output_type": "error",
          "ename": "SystemExit",
          "evalue": "ignored",
          "traceback": [
            "An exception has occurred, use %tb to see the full traceback.\n",
            "\u001b[0;31mSystemExit\u001b[0m\u001b[0;31m:\u001b[0m 1\n"
          ]
        },
        {
          "output_type": "stream",
          "text": [
            "/usr/local/lib/python3.6/dist-packages/IPython/core/interactiveshell.py:2890: UserWarning:\n",
            "\n",
            "To exit: use 'exit', 'quit', or Ctrl-D.\n",
            "\n"
          ],
          "name": "stderr"
        }
      ]
    },
    {
      "cell_type": "code",
      "metadata": {
        "id": "8tUk6JEFiJIZ"
      },
      "source": [
        ""
      ],
      "execution_count": null,
      "outputs": []
    }
  ]
}